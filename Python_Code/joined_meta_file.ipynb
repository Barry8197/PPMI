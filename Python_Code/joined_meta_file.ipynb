{
 "cells": [
  {
   "cell_type": "code",
   "execution_count": 22,
   "id": "8ed0e6fa",
   "metadata": {},
   "outputs": [],
   "source": [
    "import pandas as pd \n",
    "import matplotlib.pyplot as plt\n",
    "import numpy as np"
   ]
  },
  {
   "cell_type": "code",
   "execution_count": 23,
   "id": "180e6be5",
   "metadata": {},
   "outputs": [],
   "source": [
    "df_meta1 = pd.read_csv('./../Data/meta_data.11192021.csv')\n",
    "df_meta2 = pd.read_csv('./../Data/metadata.csv')"
   ]
  },
  {
   "cell_type": "code",
   "execution_count": 24,
   "id": "593e1fd6",
   "metadata": {},
   "outputs": [],
   "source": [
    "colnames = []\n",
    "for item in df_meta2.columns : \n",
    "    colnames.append(item.split(':')[1])\n",
    "df_meta2.columns = colnames"
   ]
  },
  {
   "cell_type": "code",
   "execution_count": 25,
   "id": "ff93639d",
   "metadata": {},
   "outputs": [],
   "source": [
    "meta_joined = pd.merge(df_meta2[['Plate','Usable Bases(%)' , 'Participant','Sex']] , df_meta1[['Clinical Event','PATNO','Disease Status','Age (Bin)','HudAlphaSampleName']] ,left_on='Participant' , right_on='PATNO' )"
   ]
  },
  {
   "cell_type": "code",
   "execution_count": 26,
   "id": "bd7d6ea1",
   "metadata": {},
   "outputs": [],
   "source": [
    "meta_joined.columns = ['Plate', 'Usable_Bases', 'Participant', 'Sex', 'Clinical_Event',\n",
    "       'PATNO', 'Disease_Status', 'ageBin' , 'HudAlphaSampleName']"
   ]
  },
  {
   "cell_type": "code",
   "execution_count": 27,
   "id": "a7067704",
   "metadata": {},
   "outputs": [],
   "source": [
    "meta_grouped = pd.merge(meta_joined.groupby(['Participant'] , as_index=False).agg(pd.Series.mode) , meta_joined.groupby(['PATNO','Disease_Status','Clinical_Event','HudAlphaSampleName'] , as_index=False).mean())"
   ]
  },
  {
   "cell_type": "code",
   "execution_count": 28,
   "id": "36c05f9f",
   "metadata": {},
   "outputs": [
    {
     "name": "stderr",
     "output_type": "stream",
     "text": [
      "<ipython-input-28-f1250daa2dec>:4: SettingWithCopyWarning: \n",
      "A value is trying to be set on a copy of a slice from a DataFrame\n",
      "\n",
      "See the caveats in the documentation: https://pandas.pydata.org/pandas-docs/stable/user_guide/indexing.html#returning-a-view-versus-a-copy\n",
      "  meta_grouped['Plate'][i] = item[0]\n"
     ]
    }
   ],
   "source": [
    "i = 0\n",
    "for item in meta_grouped['Plate'] :\n",
    "    if type(item) == np.ndarray : \n",
    "        meta_grouped['Plate'][i] = item[0]\n",
    "    i += 1"
   ]
  },
  {
   "cell_type": "code",
   "execution_count": 30,
   "id": "2b8f7fa0",
   "metadata": {},
   "outputs": [],
   "source": [
    "meta_grouped.to_csv('./../Data/meta_fianl.csv' , index=False)"
   ]
  }
 ],
 "metadata": {
  "kernelspec": {
   "display_name": "Python 3",
   "language": "python",
   "name": "python3"
  },
  "language_info": {
   "codemirror_mode": {
    "name": "ipython",
    "version": 3
   },
   "file_extension": ".py",
   "mimetype": "text/x-python",
   "name": "python",
   "nbconvert_exporter": "python",
   "pygments_lexer": "ipython3",
   "version": "3.8.8"
  }
 },
 "nbformat": 4,
 "nbformat_minor": 5
}
